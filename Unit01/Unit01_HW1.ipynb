{
 "cells": [
  {
   "cell_type": "markdown",
   "metadata": {},
   "source": [
    "# Python programming \n",
    "## Crash Course on Python Coding Practice\n",
    "\n",
    "No matter the level of mastery you hope to get to in Python,<br> \n",
    "you'll need these fundamentals in place before you jump into any project.<br><br>\n",
    "\n",
    "You need to know how to:\n",
    "\n",
    "- declare variables\n",
    "- collect user input\n",
    "- store information\n",
    "- repeat an action through loops\n",
    "- write functions to repeat blocks of code\n"
   ]
  },
  {
   "cell_type": "markdown",
   "metadata": {},
   "source": [
    "### 01 - 奇偶數辨別（Odd or even）\n",
    "#### 當使用者輸入一個的數字，它能夠辨別奇偶，並輸出檢驗結果給使用者。\n",
    "\n",
    "> 題目：輸入一數字判斷奇數或偶數<br>\n",
    "輸入(Input): 一個數字 <br>\n",
    "輸出(Output):奇數或偶數\n",
    "\n",
    "* 進階: 可以限制輸入一個介於一定範圍（例如 1 到 1000）的數字"
   ]
  },
  {
   "cell_type": "code",
   "execution_count": 15,
   "metadata": {},
   "outputs": [
    {
     "data": {
      "text/plain": [
       "'奇數'"
      ]
     },
     "execution_count": 15,
     "metadata": {},
     "output_type": "execute_result"
    }
   ],
   "source": [
    "def odd_or_even(param: int):\n",
    "    if not (1 < param < 10000):\n",
    "        return \"無效的數字\"\n",
    "    else:        \n",
    "        if param % 2 == 0:\n",
    "            return \"偶數\"\n",
    "        else:\n",
    "            return \"奇數\"\n",
    "\n",
    "odd_or_even(99)\n",
    "    "
   ]
  },
  {
   "cell_type": "markdown",
   "metadata": {},
   "source": [
    "### 02 - 填字遊戲（Mad libs game）\n",
    "#### 使用者輸入任何字，它可以是名詞、形容詞、動詞、代名詞等。程式得到文字後，可自行排列，組成成一個模板故事。\n",
    "\n",
    "> 題目：輸入一數字判斷奇數或偶數<br>\n",
    "輸入(Input): 一連串依據說明輸入對應文字 <br>\n",
    "輸出(Output): 模板故事\n",
    "\n",
    "* 進階: 可以讓程式重複執行"
   ]
  },
  {
   "cell_type": "code",
   "execution_count": 11,
   "metadata": {},
   "outputs": [
    {
     "name": "stdout",
     "output_type": "stream",
     "text": [
      "22\n"
     ]
    }
   ],
   "source": [
    "times = input(\"請輸入次數(不低於30)\")\n",
    "\n",
    "exercise = int(input(\"請輸入隨機數字 0 ~ 5\"))\n",
    "\n",
    "exercise_list = [\"伏地挺身\", \"開合跳\", \"仰臥起坐\", \"深蹲\", \"跳繩\", \"反向捲腹\"]\n",
    "\n",
    "print(f\"恭喜你!!! 你今天必須做{exercise_list[exercise]} {times} 次!!!\")"
   ]
  },
  {
   "cell_type": "markdown",
   "metadata": {},
   "source": [
    "### 03 -  猜數字（Guess the number）\n",
    "#### 請使用者猜一個介於範圍（例如 1 到 100）之間的數字，\n",
    "#### 若使用者猜錯，就詢問他們想繼續玩還是退出；若使用者猜對，就顯示祝賀訊息，\n",
    "#### 並統計使用者的嘗試次數。如果使用者輸入的數字超出設定範圍，就顯示錯誤提示。\n",
    "\n",
    "![](data\\guess.png)\n"
   ]
  },
  {
   "cell_type": "code",
   "execution_count": 26,
   "metadata": {},
   "outputs": [
    {
     "name": "stdin",
     "output_type": "stream",
     "text": [
      "猜數字範圍0 < ? < 100: 44\n"
     ]
    },
    {
     "name": "stdout",
     "output_type": "stream",
     "text": [
      "aaa\n",
      "bbb\n",
      "再大一點!! 您猜了1次\n"
     ]
    },
    {
     "name": "stdin",
     "output_type": "stream",
     "text": [
      "猜數字範圍44 < ? < 100: 66\n"
     ]
    },
    {
     "name": "stdout",
     "output_type": "stream",
     "text": [
      "aaa\n",
      "ccc\n",
      "再小一點!! 您猜了2次\n"
     ]
    },
    {
     "name": "stdin",
     "output_type": "stream",
     "text": [
      "猜數字範圍44 < ? < 66: 45\n"
     ]
    },
    {
     "name": "stdout",
     "output_type": "stream",
     "text": [
      "aaa\n",
      "bbb\n",
      "再大一點!! 您猜了3次\n"
     ]
    },
    {
     "name": "stdin",
     "output_type": "stream",
     "text": [
      "猜數字範圍45 < ? < 66: 50\n"
     ]
    },
    {
     "name": "stdout",
     "output_type": "stream",
     "text": [
      "aaa\n",
      "bbb\n",
      "再大一點!! 您猜了4次\n"
     ]
    },
    {
     "name": "stdin",
     "output_type": "stream",
     "text": [
      "猜數字範圍50 < ? < 66: 55\n"
     ]
    },
    {
     "name": "stdout",
     "output_type": "stream",
     "text": [
      "aaa\n",
      "ccc\n",
      "再小一點!! 您猜了5次\n"
     ]
    },
    {
     "name": "stdin",
     "output_type": "stream",
     "text": [
      "猜數字範圍50 < ? < 55: 53\n"
     ]
    },
    {
     "name": "stdout",
     "output_type": "stream",
     "text": [
      "aaa\n",
      "ccc\n",
      "再小一點!! 您猜了6次\n"
     ]
    },
    {
     "name": "stdin",
     "output_type": "stream",
     "text": [
      "猜數字範圍50 < ? < 53: 51\n"
     ]
    },
    {
     "name": "stdout",
     "output_type": "stream",
     "text": [
      "aaa\n",
      "bbb\n",
      "再大一點!! 您猜了7次\n"
     ]
    },
    {
     "name": "stdin",
     "output_type": "stream",
     "text": [
      "猜數字範圍51 < ? < 53: 52\n"
     ]
    },
    {
     "name": "stdout",
     "output_type": "stream",
     "text": [
      "aaa\n"
     ]
    },
    {
     "data": {
      "text/plain": [
       "'賓果! 猜對了, 答案是52'"
      ]
     },
     "execution_count": 26,
     "metadata": {},
     "output_type": "execute_result"
    }
   ],
   "source": [
    "import random\n",
    "\n",
    "def guess_the_number():\n",
    "\n",
    "    counter = 0\n",
    "    \n",
    "    big_number = 100\n",
    "    small_number = 0\n",
    "    number = None\n",
    "    \n",
    "    win_number = random.randint(0, 100)\n",
    "    \n",
    "    while number != win_number:\n",
    "        number = int(input(f\"猜數字範圍{small_number} < ? < {big_number}:\"))\n",
    "        counter += 1\n",
    "\n",
    "        if number < win_number:\n",
    "            small_number = number\n",
    "            print(f\"再大一點!! 您猜了{count}次\")\n",
    "            continue\n",
    "        elif number > win_number:\n",
    "            big_number = number\n",
    "            print(f\"再小一點!! 您猜了{count}次\")\n",
    "            continue\n",
    "      \n",
    "    return f\"賓果! 猜對了, 答案是{number}\"\n",
    "\n",
    "guess_the_number()"
   ]
  },
  {
   "cell_type": "markdown",
   "metadata": {},
   "source": [
    "### 04 - 計算字數（Word count）\n",
    "#### 使用者輸入一段文字或讀取一檔案，程式統計字數。\n",
    "\n",
    "> 輸入(Input):我要成為寫程式的專家 <br>\n",
    "輸出(Output):你用了 10 個文字述說內心的想法\n",
    "\n",
    "#### 在特定的文章字串中搜尋輸入的特定字，請使用者輸入欲搜尋的文字，印出總共有幾個。<br>\n",
    ">輸入(Input):天<br>\n",
    "輸出(Output): 9\n",
    "\n",
    "* 進階:計算文章中去除標點符號後的字數，找出文章中出現最多的字與次數"
   ]
  },
  {
   "cell_type": "code",
   "execution_count": 32,
   "metadata": {},
   "outputs": [
    {
     "name": "stdin",
     "output_type": "stream",
     "text": [
      "輸入(Input): 數\n"
     ]
    },
    {
     "data": {
      "text/plain": [
       "'輸出(Output): 10'"
      ]
     },
     "execution_count": 32,
     "metadata": {},
     "output_type": "execute_result"
    }
   ],
   "source": [
    "def word_count_01():\n",
    "    word = input(\"輸入(Input):\")\n",
    "    return f\"輸出(Output):你用了 {len(word)} 個文字述說內心的想法\"\n",
    "\n",
    "word_count_01()\n",
    "\n",
    "def word_count_02():\n",
    "    \n",
    "    article = \"\"\"人們相信自然的規律無所不在，因此希望能透過歷史資料找出潛藏的規律性。聽起來很玄妙，但其實\n",
    "    可以使用國中數學中的「函數」概念 y=f(x) 來理解。機器學習就是利用過往資料，找出其中函數的一種手段。\n",
    "    舉例而言，假設有某個函數，輸入一個數字可以得到相對應的值。試想以下情況：\n",
    "    我們輸入 1 ，得到 1；輸入 2，得到 4 ；輸入 3， 得到 9。那麼當輸入 4 時，根據規律，我們猜測會得到 16 。」\n",
    "    以上情況以函數 f (x) = y 表達便是：f(1)=1, f(2)=4, f(3)=9, f(4)=?，機器學習可以想像成我們希望能輸入 X，\n",
    "    去找到對應的 Y。而這個例子中，機器學到的函數就是：y=f(x)=x2\n",
    "    但有時候函數運算起來更為複雜，例如：f(1) =1 , f(2)=3, f(3)=5, f(4)=7, f(5)=? 若直接觀察規律，我們會合理\n",
    "    地推測是 9。但也有可能因為這個函數十分複雜，而得到217341 等超乎預期的結果，有時我們又必須考慮多變數\n",
    "    x 1, x 2, ……x 100 等。這時便是機器學習派上用場的時刻！\"\"\"\n",
    "    \n",
    "    keyword = input(\"輸入(Input):\")\n",
    "    number_count = article.count(keyword)\n",
    "    return f\"輸出(Output): {number_count}\"\n",
    "\n",
    "word_count_02()\n",
    "\n"
   ]
  },
  {
   "cell_type": "markdown",
   "metadata": {},
   "source": [
    "### 05 - Email 域名判斷器（Email slicer）\n",
    "#### 請用戶輸入 Email 地址，然後判斷它是自定義域名還是熱門域名。\n",
    "\n",
    "> 題目：<br>\n",
    "輸入(Input):shelly200318@hotmail.com.tw  <br>\n",
    "輸出(Output):Your username is 'shelly200318' and your domain name is 'hotmail.com.tw' <br>\n",
    "\n",
    "\n",
    "* 進階：把常用的信箱存成字典，加入判斷是否為\n",
    ">輸入(Input):mary.jane@gmail.com  <br>\n",
    "輸出(Output):這是註冊在 Google 之下的 Email 地址 <br>\n",
    "輸入(Input):matt.pan@myfantasy.com  <br>\n",
    "輸出(Output):這是在 myfantasy 之下自定義域\n",
    "\n"
   ]
  },
  {
   "cell_type": "code",
   "execution_count": 23,
   "metadata": {},
   "outputs": [
    {
     "name": "stdin",
     "output_type": "stream",
     "text": [
      "輸入(Input): aaa@erwerqw\n"
     ]
    },
    {
     "data": {
      "text/plain": [
       "'輸出(Output):Your username is aaa and your domain name is erwerqw'"
      ]
     },
     "execution_count": 23,
     "metadata": {},
     "output_type": "execute_result"
    }
   ],
   "source": [
    "def email_slicer():\n",
    "    s = input(\"輸入(Input):\")\n",
    "    index = s.find(\"@\")\n",
    "\n",
    "    username = s[: index]\n",
    "    domain_name = s[index + 1:]\n",
    "\n",
    "    return \"輸出(Output):Your username is \" + username + \" and your domain name is \" + domain_name\n",
    "\n",
    "email_slicer()"
   ]
  },
  {
   "cell_type": "markdown",
   "metadata": {},
   "source": [
    "### 06 - 及格名單（Pass list）\n",
    "#### 請使用集合功能來完成各科級名單的判斷\n",
    "```\n",
    "米花市帝丹小學一年级B班正舉辦期中考試\n",
    "數學及格的有：柯南、灰原、步美、美環、光彦\n",
    "英文及格的有：柯南、灰原、丸尾、野口、步美\n",
    "以上已列出全班所有人\n",
    "```\n",
    "\n",
    ">請分別列出<br>\n",
    "數學及格但英文不及格的同學名單<br>\n",
    "數學不及格但英文及格的同學名單<br>\n",
    "兩者皆及格名單<br>\n",
    "* Hint:差集(減法)、交集\n"
   ]
  },
  {
   "cell_type": "code",
   "execution_count": 35,
   "metadata": {},
   "outputs": [
    {
     "name": "stdout",
     "output_type": "stream",
     "text": [
      "{'美環', '光彦'}\n",
      "{'野口', '丸尾'}\n",
      "{'步美', '柯南', '灰原'}\n"
     ]
    }
   ],
   "source": [
    "def pass_list():\n",
    "    \n",
    "    math_pass = set([\"柯南\", \"灰原\", \"步美\", \"美環\", \"光彦\"])\n",
    "    english_pass = set([\"柯南\", \"灰原\", \"丸尾\", \"野口\", \"步美\"])\n",
    "\n",
    "    only_math_pass = math_pass.difference(english_pass)\n",
    "    print(only_math_pass)\n",
    "\n",
    "    only_english_pass = english_pass.difference(math_pass)\n",
    "    print(only_english_pass)\n",
    "\n",
    "    both_pass = math_pass.intersection(english_pass)\n",
    "    print(both_pass)\n",
    "\n",
    "pass_list()"
   ]
  },
  {
   "cell_type": "markdown",
   "metadata": {},
   "source": [
    "### 07 - 查詢路徑下所有檔案\n",
    "#### 請使用者輸入路徑，自動抓取路徑下所有檔案名稱\n",
    "\n",
    ">輸入(Input):data\\testfile 或 D:\\code\\ML_202105\\data\\testfile  <br>\n",
    "輸出(Output):\n",
    "```\n",
    "I'm a directory: file1\n",
    "I'm a directory: file2\n",
    "I'm a File: hw_07945001.txt\n",
    "I'm a File: hw_079450010.doc\n",
    "I'm a File: hw_07945002.txt\n",
    "I'm a File: hw_07945003.txt\n",
    "I'm a File: hw_07945004.txt\n",
    "I'm a File: hw_07945005.txt\n",
    "I'm a File: hw_07945007.txt\n",
    "I'm a File: hw_07945008.txt\n",
    "I'm a File: hw_07945009.txt\n",
    "```\n",
    "\n",
    "* 進階: 把file的學號抓出來，另存成一個新的csv檔"
   ]
  },
  {
   "cell_type": "code",
   "execution_count": 6,
   "metadata": {},
   "outputs": [
    {
     "name": "stdin",
     "output_type": "stream",
     "text": [
      "輸入(Input): testfile\n"
     ]
    },
    {
     "name": "stdout",
     "output_type": "stream",
     "text": [
      "I'm a directory: .ipynb_checkpoints\n",
      "I'm a directory: file1\n",
      "I'm a directory: file2\n",
      "I'm a File: hw_07945001.txt\n",
      "I'm a File: hw_079450010.doc\n",
      "I'm a File: hw_07945002.txt\n",
      "I'm a File: hw_07945003.txt\n",
      "I'm a File: hw_07945004.txt\n",
      "I'm a File: hw_07945005.txt\n",
      "I'm a File: hw_07945007.txt\n",
      "I'm a File: hw_07945008.txt\n",
      "I'm a File: hw_07945009.txt\n",
      "['07945001', '079450010', '07945002', '07945003', '07945004', '07945005', '07945007', '07945008', '07945009']\n",
      "C:\\Users\\zxc48\\NTU_ML_Courses\\Unit01\\Unit01\n"
     ]
    }
   ],
   "source": [
    "import pandas as pd\n",
    "import os\n",
    "\n",
    "def check_file():\n",
    "\n",
    "    file_path = input(\"輸入(Input):\")\n",
    "\n",
    "    items = os.listdir(file_path)\n",
    "\n",
    "    for_csv_data = []\n",
    "\n",
    "    for i in items:\n",
    "        if os.path.isdir(os.path.join(file_path, i)) == True:\n",
    "            print(f\"I'm a directory: {i}\")\n",
    "        else:\n",
    "            print(f\"I'm a File: {i}\")\n",
    "\n",
    "            index1 = i.find(\"_\")\n",
    "            index2 = i.find(\".\")\n",
    "\n",
    "            number = i[index1 + 1: index2]\n",
    "            for_csv_data.append(number)\n",
    "\n",
    "    # 找到在哪個路徑\n",
    "    print(os.getcwd())\n",
    "\n",
    "    # 存成csv\n",
    "    df = pd.DataFrame(for_csv_data, columns=['學號'])\n",
    "    df.to_csv('testfile/student_number.csv', index=False, encoding='utf-8-sig')\n",
    "\n",
    "check_file()"
   ]
  },
  {
   "cell_type": "markdown",
   "metadata": {},
   "source": [
    "### 08 - 資料夾管理(shutil)\n",
    "#### 說明 ####\n",
    "\n",
    "```\n",
    "在目前所在的目錄下建立一files資料夾\n",
    "\n",
    "令使用者輸入一數字N，並在files資料夾中建立f1, f2… fN等N個資料夾後列出files的資料夾內容\n",
    "\n",
    "將files資料夾裡的f1資料夾重新命名成folder1後再列出files的資料夾內容\n",
    "\n",
    "移除files資料夾中的folder1後再列出files的資料夾內容\n",
    "\n",
    "最後移除files資料夾\n",
    "※須先退出files資料夾(os.chdir(../)) ![image.png](attachment:image.png)\n",
    "```\n"
   ]
  },
  {
   "cell_type": "code",
   "execution_count": 1,
   "metadata": {},
   "outputs": [
    {
     "name": "stdin",
     "output_type": "stream",
     "text": [
      " 4\n",
      "Enter \n"
     ]
    },
    {
     "name": "stdout",
     "output_type": "stream",
     "text": [
      "['f1', 'f2', 'f3', 'f4']\n"
     ]
    },
    {
     "name": "stdin",
     "output_type": "stream",
     "text": [
      "Enter \n"
     ]
    },
    {
     "name": "stdout",
     "output_type": "stream",
     "text": [
      "['f2', 'f3', 'f4', 'folder1']\n"
     ]
    },
    {
     "name": "stdin",
     "output_type": "stream",
     "text": [
      "Enter \n"
     ]
    },
    {
     "name": "stdout",
     "output_type": "stream",
     "text": [
      "['f2', 'f3', 'f4']\n"
     ]
    },
    {
     "name": "stdin",
     "output_type": "stream",
     "text": [
      "Enter \n"
     ]
    }
   ],
   "source": [
    "import os\n",
    "import shutil\n",
    "\n",
    "def manage_shutil():\n",
    "    \n",
    "    if os.path.exists(\"files\"):\n",
    "        shutil.rmtree(\"files\")\n",
    "    os.mkdir(\"files\")\n",
    "    \n",
    "    n = int(input())\n",
    "    \n",
    "    # 到指定資料夾裡\n",
    "    os.chdir(\"files\")\n",
    "    \n",
    "    for i in range(1, n+1):\n",
    "        os.mkdir(\"f\" + str(i))\n",
    "    a = input(\"Enter\")\n",
    "    \n",
    "    items = os.listdir()\n",
    "    print(items)\n",
    "    a= input(\"Enter\")\n",
    "    \n",
    "    os.rename(\"f1\", \"folder1\")\n",
    "    print(os.listdir())\n",
    "    a = input(\"Enter\")\n",
    "\n",
    "    os.rmdir(\"folder1\")\n",
    "    print(os.listdir())\n",
    "    a = input(\"Enter\")\n",
    "\n",
    "    os.chdir(\"../\")\n",
    "    shutil.rmtree(\"files\")\n",
    "\n",
    "manage_shutil()\n"
   ]
  },
  {
   "cell_type": "markdown",
   "metadata": {},
   "source": [
    "### 09 - 回文判斷（Is a palindrome）\n",
    "#### 請使用者輸入單字，判斷它是否為回文，也就是該單字前後對稱，例如 madam，從前讀到後或是從後讀到前的順序都是 madam。\n",
    "\n",
    "> 題目：<br>\n",
    "輸入(Input): 雨 滋 春 樹 碧 連 天  天 連 碧 樹 春 滋 雨 <br>\n",
    "輸出(Output):The text you have entered is a palindrome!<br>\n",
    "輸入(Input): 資工訓練班 <br>\n",
    "輸出(Output):The text you have entered is not a palindrome.\n"
   ]
  },
  {
   "cell_type": "code",
   "execution_count": 15,
   "metadata": {},
   "outputs": [
    {
     "name": "stdin",
     "output_type": "stream",
     "text": [
      "輸入(Input): aaccaa\n"
     ]
    },
    {
     "data": {
      "text/plain": [
       "'輸出(Output):The text you have entered is a palindrome!'"
      ]
     },
     "execution_count": 15,
     "metadata": {},
     "output_type": "execute_result"
    }
   ],
   "source": [
    "def is_a_palindrome():\n",
    "\n",
    "    str = input(\"輸入(Input):\")\n",
    "    str_list = str.split()\n",
    "\n",
    "    # 區分有沒有空白鍵，如果list長度是1，就分割這串str為list，大於1表示已經是list\n",
    "    if len(str_list) == 1:\n",
    "        str_list = list(str_list[0])\n",
    "\n",
    "    odd_or_even = len(str_list)\n",
    "\n",
    "    # 奇數情況:\n",
    "    if odd_or_even % 2 != 0:\n",
    "        # remove middle parm\n",
    "        remove_index =  int((odd_or_even - 1) /2)\n",
    "        str_list.pop(remove_index)\n",
    "        new_len_of_list = int((len(str_list)) / 2)\n",
    "\n",
    "        # 比較兩組回文list，如果相同就是回文\n",
    "        slice_list_a = str_list[: new_len_of_list]\n",
    "        slice_list_b = str_list[-1: -new_len_of_list - 1: -1]\n",
    "\n",
    "        if slice_list_a == slice_list_b:\n",
    "            return \"輸出(Output):The text you have entered is a palindrome!\"\n",
    "        else:\n",
    "            return \"輸出(Output):The text you have entered is not a palindrome.\"\n",
    "            \n",
    "    # 偶數情況\n",
    "    else:\n",
    "        new_len_of_list = int((len(str_list)) / 2)\n",
    "\n",
    "        slice_list_c = str_list[: new_len_of_list]\n",
    "        slice_list_d = str_list[-1: -new_len_of_list - 1: -1]\n",
    "\n",
    "        if slice_list_c == slice_list_d:\n",
    "            return \"輸出(Output):The text you have entered is a palindrome!\"\n",
    "        else:\n",
    "            return \"輸出(Output):The text you have entered is not a palindrome.\"\n",
    "        \n",
    "is_a_palindrome()\n",
    "    "
   ]
  },
  {
   "cell_type": "markdown",
   "metadata": {},
   "source": [
    "### 10 - 總成績計算\n",
    "#### 說明 ####\n",
    "\n",
    "請讀取 `data/english_list.csv`與`data/math_list.csv`檔案(`utf-8`)後，將每位同學的英文與數學成績加總起來，並將檔案寫入至 `./Score.csv`中，編碼成`utf-8`<br>\n",
    "最後列印出每位學生姓名與加總後的分數<br>\n",
    "<a href=\"data\\english_list.csv\">英文成績下載</a><br>\n",
    "<a href=\"data\\math_list.csv\">數學成績下載</a><br>\n",
    "\n",
    "#### Input Format ####\n",
    "\n",
    "<br>\n",
    "csv資料(英文成績)<br>\n",
    "csv資料(數學成績)<br>\n",
    "<br>\n",
    "\n",
    "#### Output Format ####\n",
    "\n",
    "<br>\n",
    "\n",
    "![](data\\05.JPG)<br>\n",
    "<br>\n",
    "<br>\n",
    "(圖片參考用 以文字敘述為準)<br>\n",
    "\n",
    "\n",
    "\n",
    "\n",
    "#### Sample Input 1####\n",
    "\n",
    "\n",
    "\n",
    "```\n",
    "無標準輸入，只有檔案輸入\n",
    "```\n",
    "\n",
    "\n",
    "\n",
    "#### Sample Output 1####\n",
    "\n",
    "\n",
    "```\n",
    "廖冠霖 142\n",
    "王力中 124\n",
    "張平舜 108\n",
    ".\n",
    ".\n",
    ".\n",
    ".\n",
    ".\n",
    "陳姿茜 77\n",
    "涂珮瑜 134\n",
    "夏明哲 111\n",
    "\n",
    "```\n",
    "\n",
    "\n",
    "#### Hint ####\n",
    "\n",
    "\n",
    "\n",
    "```\n",
    "None\n",
    "```\n"
   ]
  },
  {
   "cell_type": "code",
   "execution_count": 2,
   "metadata": {},
   "outputs": [
    {
     "name": "stdout",
     "output_type": "stream",
     "text": [
      "['廖冠霖', '王力中', '張平舜', '洪婷婷', '林士雨', '陳宗翰', '洪偉珊', '顏又芹', '王亦夏', '姚成華', '潘詠月', '倪浩迪', '郭心怡', '黃政聖', '顏曉雲', '彭曉雯', '葉健仁', '賴軒年', '韓致遠', '陳常芝', '黃佩樺', '林詩虹', '黃心卿', '郭奕全', '游子揚', '杜茜行', '李美一', '陳姿茜', '涂珮瑜', '夏明哲']\n"
     ]
    },
    {
     "name": "stdin",
     "output_type": "stream",
     "text": [
      "Enter \n"
     ]
    }
   ],
   "source": [
    "import pandas as pd\n",
    "\n",
    "df_english = pd.read_csv('data/english_list.csv', encoding='utf-8-sig')\n",
    "df_math = pd.read_csv('data/math_list.csv', encoding='utf-8-sig')\n",
    "# print(df)\n",
    "\n",
    "# 讀取並轉成list\n",
    "name_data = df_english['姓名'].tolist()\n",
    "english_data = df_english['英文'].tolist()\n",
    "math_data = df_math['數學'].tolist()\n",
    "\n",
    "# 儲存總成績list\n",
    "total_list = []\n",
    "for e, m in zip(english_data, math_data):\n",
    "    total_list.append(e + m)\n",
    "\n",
    "title_data = [\"姓名\", \"總成績\"]\n",
    "\n",
    "a = input(\"Enter\")\n",
    "df = pd.DataFrame({\n",
    "    '姓名': name_data,\n",
    "    '總成績': total_list\n",
    "})\n",
    "\n",
    "df.to_csv('./Score.csv', index=False, encoding='utf-8-sig')\n",
    "\n"
   ]
  },
  {
   "cell_type": "code",
   "execution_count": null,
   "metadata": {},
   "outputs": [],
   "source": []
  },
  {
   "cell_type": "code",
   "execution_count": null,
   "metadata": {},
   "outputs": [],
   "source": []
  }
 ],
 "metadata": {
  "kernelspec": {
   "display_name": "Python 3 (ipykernel)",
   "language": "python",
   "name": "python3"
  },
  "language_info": {
   "codemirror_mode": {
    "name": "ipython",
    "version": 3
   },
   "file_extension": ".py",
   "mimetype": "text/x-python",
   "name": "python",
   "nbconvert_exporter": "python",
   "pygments_lexer": "ipython3",
   "version": "3.13.5"
  }
 },
 "nbformat": 4,
 "nbformat_minor": 4
}
